{
  "nbformat": 4,
  "nbformat_minor": 0,
  "metadata": {
    "colab": {
      "provenance": [],
      "authorship_tag": "ABX9TyM/rGlfeSceG3Mt0a9Szegv",
      "include_colab_link": true
    },
    "kernelspec": {
      "name": "python3",
      "display_name": "Python 3"
    },
    "language_info": {
      "name": "python"
    }
  },
  "cells": [
    {
      "cell_type": "markdown",
      "metadata": {
        "id": "view-in-github",
        "colab_type": "text"
      },
      "source": [
        "<a href=\"https://colab.research.google.com/github/bsy3/ABCD-A/blob/20250310/20250310%ED%94%84%EB%A6%B0%ED%8A%B8_%ED%95%A8%EC%88%98_%EC%82%AC%EC%9A%A9%EB%B2%95.ipynb\" target=\"_parent\"><img src=\"https://colab.research.google.com/assets/colab-badge.svg\" alt=\"Open In Colab\"/></a>"
      ]
    },
    {
      "cell_type": "code",
      "execution_count": null,
      "metadata": {
        "colab": {
          "base_uri": "https://localhost:8080/"
        },
        "id": "uyJ1VM5oUz36",
        "outputId": "2dfaecf2-283f-450e-839b-9c52cd2968a4"
      },
      "outputs": [
        {
          "output_type": "stream",
          "name": "stdout",
          "text": [
            " hello \n",
            "hello everyone\n",
            "helloeveryone\n"
          ]
        }
      ],
      "source": [
        "print(\" hello \")\n",
        "print('hello' , 'everyone')\n",
        "print('hello' + 'everyone')"
      ]
    },
    {
      "cell_type": "code",
      "source": [
        "print('hello', end = '!!!')\n",
        "print('test')\n",
        "print('hello', end = '')\n",
        "print('test')\n"
      ],
      "metadata": {
        "colab": {
          "base_uri": "https://localhost:8080/"
        },
        "id": "WehMe48_VJQ3",
        "outputId": "3a44cea2-b894-4ad3-856b-9dc908ccfa55"
      },
      "execution_count": null,
      "outputs": [
        {
          "output_type": "stream",
          "name": "stdout",
          "text": [
            "hello!!!test\n",
            "hellotest\n"
          ]
        }
      ]
    },
    {
      "cell_type": "code",
      "source": [
        "a= 123\n",
        "b = 'hello'\n",
        "print(a, b)\n",
        "print(a, 456, b, 'world')"
      ],
      "metadata": {
        "colab": {
          "base_uri": "https://localhost:8080/"
        },
        "id": "zDSx5aA_VQic",
        "outputId": "e0124ad6-cc80-49de-cc58-9a9cae0a0ba8"
      },
      "execution_count": null,
      "outputs": [
        {
          "output_type": "stream",
          "name": "stdout",
          "text": [
            "123 hello\n",
            "123 456 hello world\n"
          ]
        }
      ]
    },
    {
      "cell_type": "code",
      "source": [
        "print('Hello \"Python\"')\n",
        "print(\"Hello 'Python'\")\n",
        "print('Hello', 'Python!')\n",
        "print('Hello' + 'Python!')"
      ],
      "metadata": {
        "colab": {
          "base_uri": "https://localhost:8080/"
        },
        "id": "lqOpLkmJVTrM",
        "outputId": "a4f33d51-a293-477f-f147-45ae9d76646d"
      },
      "execution_count": null,
      "outputs": [
        {
          "output_type": "stream",
          "name": "stdout",
          "text": [
            "Hello \"Python\"\n",
            "Hello 'Python'\n",
            "Hello Python!\n",
            "HelloPython!\n"
          ]
        }
      ]
    },
    {
      "cell_type": "code",
      "source": [
        "print(\"화면에 직접 출력\")\n",
        "print('ab\\'c')\n",
        "print(\"ab'c\")\n",
        "print(\"doesnt\")\n",
        "print('does')\n",
        "print('doesn\\'t')\n",
        "print(\"'string'\")\n",
        "print(\"\\\"string\\\"\")\n",
        "print(\"string'\")"
      ],
      "metadata": {
        "colab": {
          "base_uri": "https://localhost:8080/"
        },
        "id": "PR7E0o4aVXVY",
        "outputId": "eeb48f2c-2688-4317-9cbd-d0dbca78a863"
      },
      "execution_count": null,
      "outputs": [
        {
          "output_type": "stream",
          "name": "stdout",
          "text": [
            "화면에 직접 출력\n",
            "ab'c\n",
            "ab'c\n",
            "doesnt\n",
            "does\n",
            "doesn't\n",
            "'string'\n",
            "\"string\"\n",
            "string'\n"
          ]
        }
      ]
    },
    {
      "cell_type": "code",
      "source": [
        "s1 = '화면에 직접 출력'\n",
        "s2 = 'ab\\'c'\n",
        "s3 = 'does'                         # d  o  e  s\n",
        "print(s1)                           # 0  1  2  3\n",
        "print(s2)                           #-4 -3 -2 -1\n",
        "print(s3)\n",
        "print(s1[0]) #첫글자\n",
        "print(s2[1]) #두번째 글자\n",
        "print(s3[2]) #세번쨰 글자\n",
        "print(s3[1:3])\n",
        "print(s3[-1]) #마지막 글자\n",
        "print(s3[-2]) #뒤에서 두번쨰"
      ],
      "metadata": {
        "colab": {
          "base_uri": "https://localhost:8080/"
        },
        "id": "Lon3cjzGVfeU",
        "outputId": "51c9da9d-ae0a-4b5c-ec0c-aee2ad0c01a3"
      },
      "execution_count": null,
      "outputs": [
        {
          "output_type": "stream",
          "name": "stdout",
          "text": [
            "화면에 직접 출력\n",
            "ab'c\n",
            "does\n",
            "화\n",
            "b\n",
            "e\n",
            "oe\n",
            "s\n",
            "e\n"
          ]
        }
      ]
    },
    {
      "cell_type": "code",
      "source": [
        "a = 2\n",
        "b = 3.14\n",
        "c = a+b\n",
        "print(a)\n",
        "print(b)\n",
        "print(c)\n",
        "print(round(c, 2))\n",
        "print(\"%.2f\"%(c)) #소수점 셋째자리까지\n",
        "print(a+b)\n",
        "print(a, b, a+b, c)\n",
        "d = 1e2\n",
        "e = 1e-2\n",
        "print(d)\n",
        "print(e)"
      ],
      "metadata": {
        "colab": {
          "base_uri": "https://localhost:8080/"
        },
        "id": "fjndhuN3ViOj",
        "outputId": "7763767f-9eb1-4ca1-8c25-7038f7024caf"
      },
      "execution_count": null,
      "outputs": [
        {
          "output_type": "stream",
          "name": "stdout",
          "text": [
            "2\n",
            "3.14\n",
            "5.140000000000001\n",
            "5.14\n",
            "5.14\n",
            "5.140000000000001\n",
            "2 3.14 5.140000000000001 5.140000000000001\n",
            "100.0\n",
            "0.01\n"
          ]
        }
      ]
    },
    {
      "cell_type": "code",
      "source": [
        "item1 = '사과'\n",
        "price1 = 1000\n",
        "item2 = '바나나'\n",
        "price2 = 500\n",
        "print(item1, price1)\n",
        "print(item2, price2)\n",
        "\n",
        "\n",
        "str1 = '{0}은 {1}원 입니다.'\n",
        "print(str1.format(item1, price1))\n",
        "print(str1.format(item2, price2))\n",
        "\n",
        "\n",
        "print(item1, price1, sep=',', end='/')\n",
        "print(item2, price2)\n",
        "\n",
        "str2 = '%s는 %d원입니다.'\n",
        "print(str2%(item1, price1))\n",
        "print(str2%(item2, price2))"
      ],
      "metadata": {
        "colab": {
          "base_uri": "https://localhost:8080/"
        },
        "id": "4bpZI_uuVj01",
        "outputId": "141a2bff-c587-4292-f01f-f8edf3a44088"
      },
      "execution_count": null,
      "outputs": [
        {
          "output_type": "stream",
          "name": "stdout",
          "text": [
            "사과 1000\n",
            "바나나 500\n",
            "사과은 1000원 입니다.\n",
            "바나나은 500원 입니다.\n",
            "사과,1000/바나나 500\n",
            "사과는 1000원입니다.\n",
            "바나나는 500원입니다.\n"
          ]
        }
      ]
    }
  ]
}